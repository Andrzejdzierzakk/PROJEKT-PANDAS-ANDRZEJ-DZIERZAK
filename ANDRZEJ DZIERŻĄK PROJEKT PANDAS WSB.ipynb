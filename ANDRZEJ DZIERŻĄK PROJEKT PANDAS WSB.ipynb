{
 "cells": [
  {
   "cell_type": "code",
   "execution_count": 8,
   "id": "e1899687",
   "metadata": {},
   "outputs": [],
   "source": [
    "import pandas as pd \n",
    "import matplotlib.pyplot as plt"
   ]
  },
  {
   "cell_type": "code",
   "execution_count": 20,
   "id": "81ca34ba",
   "metadata": {},
   "outputs": [],
   "source": [
    "indian_food_df = pd.read_csv(\"/home/student/Pulpit/indian_food.csv\")\n",
    "indian_food_df['ingredients'] = indian_food_df['ingredients'].str.lower()\n",
    "indian_food_df['ingredients'] = indian_food_df['ingredients'].str.split(',')\n",
    "indian_food_df['ingredients'] = indian_food_df['ingredients'].map(lambda x: [i.strip() for i in x])\n",
    "indian_food_df = indian_food_df.drop(indian_food_df[indian_food_df['prep_time'] == -1].index)\n",
    "indian_food_df['total_time'] = indian_food_df[\"prep_time\"] + indian_food_df[\"cook_time\"]"
   ]
  },
  {
   "cell_type": "code",
   "execution_count": 21,
   "id": "e0275448",
   "metadata": {},
   "outputs": [
    {
     "name": "stdout",
     "output_type": "stream",
     "text": [
      "                          name  total_time\n",
      "0                   Balu shahi          70\n",
      "1                       Boondi         110\n",
      "2               Gajar ka halwa          75\n",
      "3                       Ghevar          45\n",
      "4                  Gulab jamun          55\n",
      "7                   Kaju katli          30\n",
      "8                     Kalakand          50\n",
      "9                        Kheer          50\n",
      "10                       Laddu          50\n",
      "11                       Lassi          10\n",
      "13                       Petha          40\n",
      "14                      Phirni          50\n",
      "15                       Rabri          55\n",
      "20               Chhena jalebi          60\n",
      "22                 Chhena poda          55\n",
      "23                   Cham cham         100\n",
      "24                 Kheer sagar          85\n",
      "25                    Ledikeni          90\n",
      "28                    Mihidana          45\n",
      "30                      Pantua          90\n",
      "34                    Rasgulla         100\n",
      "35                     Sandesh          50\n",
      "38                Bandar laddu          40\n",
      "40               Dharwad pedha          80\n",
      "42                     Gavvalu          40\n",
      "43              Kakinada khaja          40\n",
      "45                  Mysore pak          25\n",
      "56                     Basundi          45\n",
      "58                    Doodhpak          70\n",
      "59                 Mahim halwa          35\n",
      "61                 Shankarpali          45\n",
      "62                   Shrikhand         730\n",
      "63                  Sutar feni          70\n",
      "66              Chak Hao Kheer         285\n",
      "96               Kulfi falooda          70\n",
      "149                    Payasam          45\n",
      "155                      Puttu         535\n",
      "164                       Upma          30\n",
      "174                     Chevdo          50\n",
      "182                Dudhi halwa          45\n",
      "190                Keri no ras          20\n",
      "204                 Sev tameta          50\n",
      "218  Turiya Patra Vatana sabji          75\n",
      "247          Prawn malai curry          65\n"
     ]
    },
    {
     "data": {
      "image/png": "[encoded data removed]",
      "text/plain": [
       "<Figure size 640x480 with 1 Axes>"
      ]
     },
     "metadata": {},
     "output_type": "display_data"
    }
   ],
   "source": [
    "def filter_dishes(ingredients, indian_food_df, display_plot):\n",
    "    filtered_df = indian_food_df[indian_food_df['ingredients'].apply(lambda x: all(ingredient in x for ingredient in ingredients))]\n",
    "    filtered_df = filtered_df[['name','total_time']]\n",
    "    if len(filtered_df) == 0:\n",
    "        print (\"no recepies found\")\n",
    "        return\n",
    "    if display_plot: \n",
    "        plt.hist(filtered_df['total_time'], [0,30,60,90,120],edgecolor='black', linewidth=1.2)\n",
    "    print(filtered_df)\n",
    "filter_dishes(['sugar'], indian_food_df, True)"
   ]
  }
 ],
 "metadata": {
  "kernelspec": {
   "display_name": "Python 3 (ipykernel)",
   "language": "python",
   "name": "python3"
  },
  "language_info": {
   "codemirror_mode": {
    "name": "ipython",
    "version": 3
   },
   "file_extension": ".py",
   "mimetype": "text/x-python",
   "name": "python",
   "nbconvert_exporter": "python",
   "pygments_lexer": "ipython3",
   "version": "3.10.6"
  }
 },
 "nbformat": 4,
 "nbformat_minor": 5
}
